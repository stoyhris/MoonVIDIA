{
 "cells": [
  {
   "cell_type": "code",
   "execution_count": 23,
   "metadata": {},
   "outputs": [
    {
     "ename": "ModuleNotFoundError",
     "evalue": "No module named 'tensorflow'",
     "output_type": "error",
     "traceback": [
      "\u001b[1;31m---------------------------------------------------------------------------\u001b[0m",
      "\u001b[1;31mModuleNotFoundError\u001b[0m                       Traceback (most recent call last)",
      "\u001b[1;32mc:\\Users\\shristov\\OneDrive - University of Waterloo\\Desktop\\Personal Projects\\moonvidia\\lstm.ipynb Cell 1\u001b[0m line \u001b[0;36m6\n\u001b[0;32m      <a href='vscode-notebook-cell:/c%3A/Users/shristov/OneDrive%20-%20University%20of%20Waterloo/Desktop/Personal%20Projects/moonvidia/lstm.ipynb#W0sZmlsZQ%3D%3D?line=3'>4</a>\u001b[0m \u001b[39mimport\u001b[39;00m \u001b[39mmatplotlib\u001b[39;00m\u001b[39m.\u001b[39;00m\u001b[39mpyplot\u001b[39;00m \u001b[39mas\u001b[39;00m \u001b[39mplt\u001b[39;00m\n\u001b[0;32m      <a href='vscode-notebook-cell:/c%3A/Users/shristov/OneDrive%20-%20University%20of%20Waterloo/Desktop/Personal%20Projects/moonvidia/lstm.ipynb#W0sZmlsZQ%3D%3D?line=4'>5</a>\u001b[0m \u001b[39mimport\u001b[39;00m \u001b[39mnumpy\u001b[39;00m \u001b[39mas\u001b[39;00m \u001b[39mnp\u001b[39;00m\n\u001b[1;32m----> <a href='vscode-notebook-cell:/c%3A/Users/shristov/OneDrive%20-%20University%20of%20Waterloo/Desktop/Personal%20Projects/moonvidia/lstm.ipynb#W0sZmlsZQ%3D%3D?line=5'>6</a>\u001b[0m \u001b[39mfrom\u001b[39;00m \u001b[39mtensorflow\u001b[39;00m\u001b[39m.\u001b[39;00m\u001b[39mkeras\u001b[39;00m\u001b[39m.\u001b[39;00m\u001b[39mmodels\u001b[39;00m \u001b[39mimport\u001b[39;00m Sequential \n\u001b[0;32m      <a href='vscode-notebook-cell:/c%3A/Users/shristov/OneDrive%20-%20University%20of%20Waterloo/Desktop/Personal%20Projects/moonvidia/lstm.ipynb#W0sZmlsZQ%3D%3D?line=6'>7</a>\u001b[0m \u001b[39mfrom\u001b[39;00m \u001b[39mtensorflow\u001b[39;00m\u001b[39m.\u001b[39;00m\u001b[39mkeras\u001b[39;00m\u001b[39m.\u001b[39;00m\u001b[39moptimizeres\u001b[39;00m \u001b[39mimport\u001b[39;00m Adam \n\u001b[0;32m      <a href='vscode-notebook-cell:/c%3A/Users/shristov/OneDrive%20-%20University%20of%20Waterloo/Desktop/Personal%20Projects/moonvidia/lstm.ipynb#W0sZmlsZQ%3D%3D?line=7'>8</a>\u001b[0m \u001b[39mfrom\u001b[39;00m \u001b[39mtensorflow\u001b[39;00m\u001b[39m.\u001b[39;00m\u001b[39mkeras\u001b[39;00m \u001b[39mimport\u001b[39;00m layers\n",
      "\u001b[1;31mModuleNotFoundError\u001b[0m: No module named 'tensorflow'"
     ]
    }
   ],
   "source": [
    "# data @ https://finance.yahoo.com/quote/NVDA/history/\n",
    "import pandas as pd\n",
    "import datetime as dt\n",
    "import matplotlib.pyplot as plt\n",
    "import numpy as np\n",
    "from tensorflow.keras.models import Sequential \n",
    "from tensorflow.keras.optimizeres import Adam \n",
    "from tensorflow.keras import layers"
   ]
  },
  {
   "cell_type": "code",
   "execution_count": 12,
   "metadata": {},
   "outputs": [
    {
     "data": {
      "text/html": [
       "<div>\n",
       "<style scoped>\n",
       "    .dataframe tbody tr th:only-of-type {\n",
       "        vertical-align: middle;\n",
       "    }\n",
       "\n",
       "    .dataframe tbody tr th {\n",
       "        vertical-align: top;\n",
       "    }\n",
       "\n",
       "    .dataframe thead th {\n",
       "        text-align: right;\n",
       "    }\n",
       "</style>\n",
       "<table border=\"1\" class=\"dataframe\">\n",
       "  <thead>\n",
       "    <tr style=\"text-align: right;\">\n",
       "      <th></th>\n",
       "      <th>Close</th>\n",
       "    </tr>\n",
       "    <tr>\n",
       "      <th>Date</th>\n",
       "      <th></th>\n",
       "    </tr>\n",
       "  </thead>\n",
       "  <tbody>\n",
       "    <tr>\n",
       "      <th>1999-01-22</th>\n",
       "      <td>0.041016</td>\n",
       "    </tr>\n",
       "    <tr>\n",
       "      <th>1999-01-25</th>\n",
       "      <td>0.045313</td>\n",
       "    </tr>\n",
       "    <tr>\n",
       "      <th>1999-01-26</th>\n",
       "      <td>0.041797</td>\n",
       "    </tr>\n",
       "    <tr>\n",
       "      <th>1999-01-27</th>\n",
       "      <td>0.041667</td>\n",
       "    </tr>\n",
       "    <tr>\n",
       "      <th>1999-01-28</th>\n",
       "      <td>0.041536</td>\n",
       "    </tr>\n",
       "    <tr>\n",
       "      <th>...</th>\n",
       "      <td>...</td>\n",
       "    </tr>\n",
       "    <tr>\n",
       "      <th>2024-06-14</th>\n",
       "      <td>131.880005</td>\n",
       "    </tr>\n",
       "    <tr>\n",
       "      <th>2024-06-17</th>\n",
       "      <td>130.979996</td>\n",
       "    </tr>\n",
       "    <tr>\n",
       "      <th>2024-06-18</th>\n",
       "      <td>135.580002</td>\n",
       "    </tr>\n",
       "    <tr>\n",
       "      <th>2024-06-20</th>\n",
       "      <td>130.779999</td>\n",
       "    </tr>\n",
       "    <tr>\n",
       "      <th>2024-06-21</th>\n",
       "      <td>126.570000</td>\n",
       "    </tr>\n",
       "  </tbody>\n",
       "</table>\n",
       "<p>6395 rows × 1 columns</p>\n",
       "</div>"
      ],
      "text/plain": [
       "                 Close\n",
       "Date                  \n",
       "1999-01-22    0.041016\n",
       "1999-01-25    0.045313\n",
       "1999-01-26    0.041797\n",
       "1999-01-27    0.041667\n",
       "1999-01-28    0.041536\n",
       "...                ...\n",
       "2024-06-14  131.880005\n",
       "2024-06-17  130.979996\n",
       "2024-06-18  135.580002\n",
       "2024-06-20  130.779999\n",
       "2024-06-21  126.570000\n",
       "\n",
       "[6395 rows x 1 columns]"
      ]
     },
     "execution_count": 12,
     "metadata": {},
     "output_type": "execute_result"
    }
   ],
   "source": [
    "df = pd.read_csv('NVDA.csv')\n",
    "df = df[['Date','Close']] # take relevant data\n",
    "df['Date']\n",
    "def str_to_datetime(s):\n",
    "    split = s.split('-')\n",
    "    year, month, day = int(split[0]), int(split[1]), int(split[2])\n",
    "    return dt.datetime(year=year,month=month,day=day)\n",
    "\n",
    "datetime_obj = str_to_datetime('1999-01-22')\n",
    "\n",
    "df['Date'] = df['Date'].apply(str_to_datetime) # Turn dates into datetime objects (not strings)\n",
    "df.index = df.pop('Date')\n",
    "df"
   ]
  },
  {
   "cell_type": "code",
   "execution_count": 14,
   "metadata": {},
   "outputs": [
    {
     "data": {
      "text/plain": [
       "[<matplotlib.lines.Line2D at 0x20ecf401190>]"
      ]
     },
     "execution_count": 14,
     "metadata": {},
     "output_type": "execute_result"
    },
    {
     "data": {
      "image/png": "[encoded data removed]",
      "text/plain": [
       "<Figure size 640x480 with 1 Axes>"
      ]
     },
     "metadata": {},
     "output_type": "display_data"
    }
   ],
   "source": [
    "plt.plot(df.index,df['Close'])"
   ]
  },
  {
   "cell_type": "code",
   "execution_count": 20,
   "metadata": {},
   "outputs": [
    {
     "data": {
      "text/html": [
       "<div>\n",
       "<style scoped>\n",
       "    .dataframe tbody tr th:only-of-type {\n",
       "        vertical-align: middle;\n",
       "    }\n",
       "\n",
       "    .dataframe tbody tr th {\n",
       "        vertical-align: top;\n",
       "    }\n",
       "\n",
       "    .dataframe thead th {\n",
       "        text-align: right;\n",
       "    }\n",
       "</style>\n",
       "<table border=\"1\" class=\"dataframe\">\n",
       "  <thead>\n",
       "    <tr style=\"text-align: right;\">\n",
       "      <th></th>\n",
       "      <th>Target Date</th>\n",
       "      <th>Target-3</th>\n",
       "      <th>Target-2</th>\n",
       "      <th>Target-1</th>\n",
       "      <th>Target</th>\n",
       "    </tr>\n",
       "  </thead>\n",
       "  <tbody>\n",
       "    <tr>\n",
       "      <th>0</th>\n",
       "      <td>1999-01-27</td>\n",
       "      <td>0.041016</td>\n",
       "      <td>0.045313</td>\n",
       "      <td>0.041797</td>\n",
       "      <td>0.041667</td>\n",
       "    </tr>\n",
       "    <tr>\n",
       "      <th>1</th>\n",
       "      <td>1999-01-28</td>\n",
       "      <td>0.045313</td>\n",
       "      <td>0.041797</td>\n",
       "      <td>0.041667</td>\n",
       "      <td>0.041536</td>\n",
       "    </tr>\n",
       "    <tr>\n",
       "      <th>2</th>\n",
       "      <td>1999-01-29</td>\n",
       "      <td>0.041797</td>\n",
       "      <td>0.041667</td>\n",
       "      <td>0.041536</td>\n",
       "      <td>0.039583</td>\n",
       "    </tr>\n",
       "    <tr>\n",
       "      <th>3</th>\n",
       "      <td>1999-02-01</td>\n",
       "      <td>0.041667</td>\n",
       "      <td>0.041536</td>\n",
       "      <td>0.039583</td>\n",
       "      <td>0.040365</td>\n",
       "    </tr>\n",
       "    <tr>\n",
       "      <th>4</th>\n",
       "      <td>1999-02-02</td>\n",
       "      <td>0.041536</td>\n",
       "      <td>0.039583</td>\n",
       "      <td>0.040365</td>\n",
       "      <td>0.037240</td>\n",
       "    </tr>\n",
       "    <tr>\n",
       "      <th>...</th>\n",
       "      <td>...</td>\n",
       "      <td>...</td>\n",
       "      <td>...</td>\n",
       "      <td>...</td>\n",
       "      <td>...</td>\n",
       "    </tr>\n",
       "    <tr>\n",
       "      <th>6387</th>\n",
       "      <td>2024-06-14</td>\n",
       "      <td>120.910004</td>\n",
       "      <td>125.199997</td>\n",
       "      <td>129.610001</td>\n",
       "      <td>131.880005</td>\n",
       "    </tr>\n",
       "    <tr>\n",
       "      <th>6388</th>\n",
       "      <td>2024-06-17</td>\n",
       "      <td>125.199997</td>\n",
       "      <td>129.610001</td>\n",
       "      <td>131.880005</td>\n",
       "      <td>130.979996</td>\n",
       "    </tr>\n",
       "    <tr>\n",
       "      <th>6389</th>\n",
       "      <td>2024-06-18</td>\n",
       "      <td>129.610001</td>\n",
       "      <td>131.880005</td>\n",
       "      <td>130.979996</td>\n",
       "      <td>135.580002</td>\n",
       "    </tr>\n",
       "    <tr>\n",
       "      <th>6390</th>\n",
       "      <td>2024-06-20</td>\n",
       "      <td>131.880005</td>\n",
       "      <td>130.979996</td>\n",
       "      <td>135.580002</td>\n",
       "      <td>130.779999</td>\n",
       "    </tr>\n",
       "    <tr>\n",
       "      <th>6391</th>\n",
       "      <td>2024-06-21</td>\n",
       "      <td>130.979996</td>\n",
       "      <td>135.580002</td>\n",
       "      <td>130.779999</td>\n",
       "      <td>126.570000</td>\n",
       "    </tr>\n",
       "  </tbody>\n",
       "</table>\n",
       "<p>6392 rows × 5 columns</p>\n",
       "</div>"
      ],
      "text/plain": [
       "     Target Date    Target-3    Target-2    Target-1      Target\n",
       "0     1999-01-27    0.041016    0.045313    0.041797    0.041667\n",
       "1     1999-01-28    0.045313    0.041797    0.041667    0.041536\n",
       "2     1999-01-29    0.041797    0.041667    0.041536    0.039583\n",
       "3     1999-02-01    0.041667    0.041536    0.039583    0.040365\n",
       "4     1999-02-02    0.041536    0.039583    0.040365    0.037240\n",
       "...          ...         ...         ...         ...         ...\n",
       "6387  2024-06-14  120.910004  125.199997  129.610001  131.880005\n",
       "6388  2024-06-17  125.199997  129.610001  131.880005  130.979996\n",
       "6389  2024-06-18  129.610001  131.880005  130.979996  135.580002\n",
       "6390  2024-06-20  131.880005  130.979996  135.580002  130.779999\n",
       "6391  2024-06-21  130.979996  135.580002  130.779999  126.570000\n",
       "\n",
       "[6392 rows x 5 columns]"
      ]
     },
     "execution_count": 20,
     "metadata": {},
     "output_type": "execute_result"
    }
   ],
   "source": [
    "def df_to_windowed_df(dataframe, first_date_str, last_date_str, n=3):\n",
    "    first_date = str_to_datetime(first_date_str)\n",
    "    last_date = str_to_datetime(last_date_str)\n",
    "\n",
    "    target_date = first_date \n",
    "\n",
    "    dates = [] \n",
    "    X, Y = [], [] \n",
    "\n",
    "    last_time = False \n",
    "    while True: \n",
    "        df_subset = dataframe.loc[:target_date].tail(n+1)\n",
    "\n",
    "        if len(df_subset) != n+1: \n",
    "            print(f'Error: Window size of {n} too large for date {target_date}')\n",
    "            return \n",
    "        values = df_subset['Close'].to_numpy() \n",
    "        x,y = values[:-1], values[-1]\n",
    "\n",
    "        dates.append(target_date)\n",
    "        X.append(x) \n",
    "        Y.append(y)\n",
    "\n",
    "        next_week = dataframe.loc[target_date:target_date+dt.timedelta(days=7)]\n",
    "        next_datetime_str = str(next_week.head(2).tail(1).index.values[0])\n",
    "        next_date_str = next_datetime_str.split('T')[0]\n",
    "        year_month_day = next_date_str.split('-')\n",
    "        year, month, day = year_month_day \n",
    "        next_date = dt.datetime(day=int(day), month=int(month), year=int(year))\n",
    "\n",
    "        if last_time: \n",
    "            break \n",
    "        target_date = next_date \n",
    "\n",
    "        if target_date == last_date: \n",
    "            last_time = True \n",
    "    \n",
    "    ret_df = pd.DataFrame({})\n",
    "    ret_df['Target Date'] = dates \n",
    "    \n",
    "    X = np.array(X) \n",
    "    for i in range(0,n):\n",
    "        X[:,i]\n",
    "        ret_df[f'Target-{n-i}'] = X[:,i]\n",
    "\n",
    "    ret_df['Target'] = Y\n",
    "\n",
    "    return ret_df \n",
    "\n",
    "windowed_df = df_to_windowed_df(df, '1999-01-27', '2024-06-21' )\n",
    "windowed_df"
   ]
  },
  {
   "cell_type": "code",
   "execution_count": 21,
   "metadata": {},
   "outputs": [
    {
     "data": {
      "text/plain": [
       "((6392,), (6392, 3, 1), (6392,))"
      ]
     },
     "execution_count": 21,
     "metadata": {},
     "output_type": "execute_result"
    }
   ],
   "source": [
    "def windowed_df_to_date_X_y(windowed_dataframe):\n",
    "    df_as_np = windowed_dataframe.to_numpy()\n",
    "    \n",
    "    dates = df_as_np[:,0] # extract the dates \n",
    "\n",
    "    # extract input matrix\n",
    "    middle_matrix = df_as_np[:,1:-1]\n",
    "    X = middle_matrix.reshape((len(dates),middle_matrix.shape[1],1))\n",
    "\n",
    "    Y = df_as_np[:,-1] # extract output\n",
    "\n",
    "    return dates, X.astype(np.float32), Y.astype(np.float32)\n",
    "\n",
    "dates, X, y = windowed_df_to_date_X_y(windowed_df)\n",
    "\n",
    "dates.shape, X.shape, y.shape"
   ]
  },
  {
   "cell_type": "code",
   "execution_count": 22,
   "metadata": {},
   "outputs": [
    {
     "data": {
      "text/plain": [
       "<matplotlib.legend.Legend at 0x20ecf3d5810>"
      ]
     },
     "execution_count": 22,
     "metadata": {},
     "output_type": "execute_result"
    },
    {
     "data": {
      "image/png": "[encoded data removed]",
      "text/plain": [
       "<Figure size 640x480 with 1 Axes>"
      ]
     },
     "metadata": {},
     "output_type": "display_data"
    }
   ],
   "source": [
    "# Train Validation Test Split \n",
    "q_80 = int(len(dates)*0.8)\n",
    "q_90 = int(len(dates)*0.9)\n",
    "\n",
    "dates_train, X_train, y_train = dates[:q_80], X[:q_80], y[:q_80]\n",
    "dates_val, X_val, y_val = dates[q_80:q_90], X[q_80:q_90], y[q_80:q_90]\n",
    "dates_test, X_test, y_test = dates[q_90:], X[q_90:], y[q_90:]\n",
    "\n",
    "plt.plot(dates_train, y_train)\n",
    "plt.plot(dates_val, y_val)\n",
    "plt.plot(dates_test, y_test)\n",
    "plt.legend(['Train','Validation','Test'])"
   ]
  }
 ],
 "metadata": {
  "kernelspec": {
   "display_name": "Python 3",
   "language": "python",
   "name": "python3"
  },
  "language_info": {
   "codemirror_mode": {
    "name": "ipython",
    "version": 3
   },
   "file_extension": ".py",
   "mimetype": "text/x-python",
   "name": "python",
   "nbconvert_exporter": "python",
   "pygments_lexer": "ipython3",
   "version": "3.11.9"
  },
  "orig_nbformat": 4
 },
 "nbformat": 4,
 "nbformat_minor": 2
}
